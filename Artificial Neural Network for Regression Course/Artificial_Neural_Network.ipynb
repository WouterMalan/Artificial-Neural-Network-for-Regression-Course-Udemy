{
  "cells": [
    {
      "cell_type": "markdown",
      "metadata": {
        "id": "3cbb7fRy-eyr"
      },
      "source": [
        "# Artificial Neural Network"
      ]
    },
    {
      "cell_type": "markdown",
      "metadata": {
        "id": "8sNDnxE2-pwE"
      },
      "source": [
        "### Importing the libraries"
      ]
    },
    {
      "cell_type": "code",
      "execution_count": 1,
      "metadata": {},
      "outputs": [],
      "source": [
        "import numpy as np\n",
        "import tensorflow as tf\n",
        "import tensorflow.keras as keras\n",
        "import matplotlib.pyplot as plt\n",
        "import pandas as pd"
      ]
    },
    {
      "cell_type": "markdown",
      "metadata": {
        "id": "AG3FQEch-yuA"
      },
      "source": [
        "## Part 1 - Data Preprocessing"
      ]
    },
    {
      "cell_type": "markdown",
      "metadata": {
        "id": "-4zq8Mza_D9O"
      },
      "source": [
        "### Importing the dataset"
      ]
    },
    {
      "cell_type": "code",
      "execution_count": 3,
      "metadata": {},
      "outputs": [],
      "source": [
        "df = pd.read_excel('Folds5x2_pp.xlsx') # Read the dataframe from the excel file\n",
        "x = df.iloc[:, :-1].values\n",
        "y = df.iloc[:, -1].values"
      ]
    },
    {
      "cell_type": "code",
      "execution_count": 4,
      "metadata": {},
      "outputs": [
        {
          "name": "stdout",
          "output_type": "stream",
          "text": [
            "[[  14.96   41.76 1024.07   73.17]\n",
            " [  25.18   62.96 1020.04   59.08]\n",
            " [   5.11   39.4  1012.16   92.14]\n",
            " ...\n",
            " [  31.32   74.33 1012.92   36.48]\n",
            " [  24.48   69.45 1013.86   62.39]\n",
            " [  21.6    62.52 1017.23   67.87]]\n"
          ]
        }
      ],
      "source": [
        "print(x)"
      ]
    },
    {
      "cell_type": "code",
      "execution_count": 5,
      "metadata": {},
      "outputs": [
        {
          "name": "stdout",
          "output_type": "stream",
          "text": [
            "[463.26 444.37 488.56 ... 429.57 435.74 453.28]\n"
          ]
        }
      ],
      "source": [
        "print(y)"
      ]
    },
    {
      "cell_type": "markdown",
      "metadata": {
        "id": "VC6omXel_Up0"
      },
      "source": [
        "### Splitting the dataset into the Training set and Test set"
      ]
    },
    {
      "cell_type": "code",
      "execution_count": 6,
      "metadata": {},
      "outputs": [],
      "source": [
        "from sklearn.model_selection import train_test_split\n",
        "x_train, x_test, y_train, y_test = train_test_split(x, y, test_size=0.2, random_state=0) # 20% of data will be used for testing"
      ]
    },
    {
      "cell_type": "markdown",
      "metadata": {
        "id": "_mSLlAT9_eyI"
      },
      "source": [
        "## Part 2 - Building the ANN"
      ]
    },
    {
      "cell_type": "markdown",
      "metadata": {
        "id": "CsBULd_f_wLY"
      },
      "source": [
        "### Initializing the ANN"
      ]
    },
    {
      "cell_type": "code",
      "execution_count": 7,
      "metadata": {},
      "outputs": [],
      "source": [
        "ann = keras.Sequential()# Sequential is a linear stack of layers in the neural network model (in this case, a simple feedforward network)"
      ]
    },
    {
      "cell_type": "markdown",
      "metadata": {
        "id": "iitAFJS_ABUn"
      },
      "source": [
        "### Adding the input layer and the first hidden layer"
      ]
    },
    {
      "cell_type": "code",
      "execution_count": 8,
      "metadata": {},
      "outputs": [],
      "source": [
        "ann.add(tf.keras.layers.Dense(units=6, activation='relu', input_dim=4)) # Dense is a layer in the neural network model"
      ]
    },
    {
      "cell_type": "markdown",
      "metadata": {
        "id": "-lb4kK_wAKbs"
      },
      "source": [
        "### Adding the second hidden layer"
      ]
    },
    {
      "cell_type": "code",
      "execution_count": 9,
      "metadata": {},
      "outputs": [],
      "source": [
        "ann.add(tf.keras.layers.Dense(units=6, activation='relu', input_dim=4)) # Dense is a layer in the neural network model (in this case, a simple feedforward network)"
      ]
    },
    {
      "cell_type": "markdown",
      "metadata": {
        "id": "jwMOmKb3AdBY"
      },
      "source": [
        "### Adding the output layer"
      ]
    },
    {
      "cell_type": "code",
      "execution_count": 10,
      "metadata": {},
      "outputs": [],
      "source": [
        "ann.add(tf.keras.layers.Dense(units=1, activation='sigmoid')) # Dense is a layer in the neural network model and the output layer has a single neuron with a sigmoid activation function"
      ]
    },
    {
      "cell_type": "markdown",
      "metadata": {
        "id": "fq7e4fF6A1yy"
      },
      "source": [
        "## Part 3 - Training the ANN"
      ]
    },
    {
      "cell_type": "markdown",
      "metadata": {
        "id": "qDeylAs2An25"
      },
      "source": [
        "### Compiling the ANN"
      ]
    },
    {
      "cell_type": "code",
      "execution_count": 11,
      "metadata": {},
      "outputs": [],
      "source": [
        "ann.compile(optimizer='adam', loss='mean_squared_error') # Compile the model with the optimizer and loss function"
      ]
    },
    {
      "cell_type": "markdown",
      "metadata": {
        "id": "YjVuiybYOo7r"
      },
      "source": [
        "### Training the ANN model on the Training set"
      ]
    },
    {
      "cell_type": "code",
      "execution_count": 12,
      "metadata": {},
      "outputs": [
        {
          "name": "stdout",
          "output_type": "stream",
          "text": [
            "Epoch 1/100\n",
            "240/240 [==============================] - 1s 1ms/step - loss: 205774.5938\n",
            "Epoch 2/100\n",
            "240/240 [==============================] - 0s 1ms/step - loss: 205774.6562\n",
            "Epoch 3/100\n",
            "240/240 [==============================] - 0s 1ms/step - loss: 205774.5312\n",
            "Epoch 4/100\n",
            "240/240 [==============================] - 0s 1ms/step - loss: 205774.6719\n",
            "Epoch 5/100\n",
            "240/240 [==============================] - 0s 1ms/step - loss: 205774.6406\n",
            "Epoch 6/100\n",
            "240/240 [==============================] - 0s 1ms/step - loss: 205774.5938\n",
            "Epoch 7/100\n",
            "240/240 [==============================] - 0s 1ms/step - loss: 205774.7812\n",
            "Epoch 8/100\n",
            "240/240 [==============================] - 0s 1ms/step - loss: 205774.6719\n",
            "Epoch 9/100\n",
            "240/240 [==============================] - 0s 1ms/step - loss: 205774.6094\n",
            "Epoch 10/100\n",
            "240/240 [==============================] - 0s 1ms/step - loss: 205774.7344\n",
            "Epoch 11/100\n",
            "240/240 [==============================] - 0s 1ms/step - loss: 205774.6562\n",
            "Epoch 12/100\n",
            "240/240 [==============================] - 0s 1ms/step - loss: 205774.6406\n",
            "Epoch 13/100\n",
            "240/240 [==============================] - 0s 973us/step - loss: 205774.6094\n",
            "Epoch 14/100\n",
            "240/240 [==============================] - 0s 1ms/step - loss: 205774.5312\n",
            "Epoch 15/100\n",
            "240/240 [==============================] - 0s 1ms/step - loss: 205774.6406\n",
            "Epoch 16/100\n",
            "240/240 [==============================] - 0s 1ms/step - loss: 205774.6719\n",
            "Epoch 17/100\n",
            "240/240 [==============================] - 0s 1ms/step - loss: 205774.6719\n",
            "Epoch 18/100\n",
            "240/240 [==============================] - 0s 992us/step - loss: 205774.6562\n",
            "Epoch 19/100\n",
            "240/240 [==============================] - 0s 1ms/step - loss: 205774.5781\n",
            "Epoch 20/100\n",
            "240/240 [==============================] - 0s 984us/step - loss: 205774.6562\n",
            "Epoch 21/100\n",
            "240/240 [==============================] - 0s 965us/step - loss: 205774.7656\n",
            "Epoch 22/100\n",
            "240/240 [==============================] - 0s 1ms/step - loss: 205774.6406\n",
            "Epoch 23/100\n",
            "240/240 [==============================] - 0s 1ms/step - loss: 205774.6875\n",
            "Epoch 24/100\n",
            "240/240 [==============================] - 0s 1ms/step - loss: 205774.6094\n",
            "Epoch 25/100\n",
            "240/240 [==============================] - 0s 1ms/step - loss: 205774.6094\n",
            "Epoch 26/100\n",
            "240/240 [==============================] - 0s 1ms/step - loss: 205774.6875\n",
            "Epoch 27/100\n",
            "240/240 [==============================] - 0s 1ms/step - loss: 205774.6406\n",
            "Epoch 28/100\n",
            "240/240 [==============================] - 0s 1ms/step - loss: 205774.6406\n",
            "Epoch 29/100\n",
            "240/240 [==============================] - 0s 1ms/step - loss: 205774.7031\n",
            "Epoch 30/100\n",
            "240/240 [==============================] - 0s 1ms/step - loss: 205774.6875\n",
            "Epoch 31/100\n",
            "240/240 [==============================] - 0s 1ms/step - loss: 205774.6719\n",
            "Epoch 32/100\n",
            "240/240 [==============================] - 0s 1ms/step - loss: 205774.6094\n",
            "Epoch 33/100\n",
            "240/240 [==============================] - 0s 1ms/step - loss: 205774.7188\n",
            "Epoch 34/100\n",
            "240/240 [==============================] - 0s 1ms/step - loss: 205774.6406\n",
            "Epoch 35/100\n",
            "240/240 [==============================] - 0s 2ms/step - loss: 205774.6406\n",
            "Epoch 36/100\n",
            "240/240 [==============================] - 0s 1ms/step - loss: 205774.7031\n",
            "Epoch 37/100\n",
            "240/240 [==============================] - 0s 1ms/step - loss: 205774.6875\n",
            "Epoch 38/100\n",
            "240/240 [==============================] - 0s 1ms/step - loss: 205774.6562\n",
            "Epoch 39/100\n",
            "240/240 [==============================] - 0s 1ms/step - loss: 205774.6875\n",
            "Epoch 40/100\n",
            "240/240 [==============================] - 0s 1ms/step - loss: 205774.6875\n",
            "Epoch 41/100\n",
            "240/240 [==============================] - 0s 2ms/step - loss: 205774.6406\n",
            "Epoch 42/100\n",
            "240/240 [==============================] - 0s 1ms/step - loss: 205774.6719\n",
            "Epoch 43/100\n",
            "240/240 [==============================] - 0s 1ms/step - loss: 205774.6562\n",
            "Epoch 44/100\n",
            "240/240 [==============================] - 0s 2ms/step - loss: 205774.6875\n",
            "Epoch 45/100\n",
            "240/240 [==============================] - 0s 1ms/step - loss: 205774.6094\n",
            "Epoch 46/100\n",
            "240/240 [==============================] - 0s 2ms/step - loss: 205774.6562\n",
            "Epoch 47/100\n",
            "240/240 [==============================] - 1s 2ms/step - loss: 205774.6406\n",
            "Epoch 48/100\n",
            "240/240 [==============================] - 0s 2ms/step - loss: 205774.6406\n",
            "Epoch 49/100\n",
            "240/240 [==============================] - 0s 2ms/step - loss: 205774.6562\n",
            "Epoch 50/100\n",
            "240/240 [==============================] - 0s 2ms/step - loss: 205774.6719\n",
            "Epoch 51/100\n",
            "240/240 [==============================] - 1s 2ms/step - loss: 205774.7656\n",
            "Epoch 52/100\n",
            "240/240 [==============================] - 1s 2ms/step - loss: 205774.6562\n",
            "Epoch 53/100\n",
            "240/240 [==============================] - 0s 1ms/step - loss: 205774.6094\n",
            "Epoch 54/100\n",
            "240/240 [==============================] - 0s 2ms/step - loss: 205774.5781\n",
            "Epoch 55/100\n",
            "240/240 [==============================] - 0s 2ms/step - loss: 205774.7031\n",
            "Epoch 56/100\n",
            "240/240 [==============================] - 0s 2ms/step - loss: 205774.6406\n",
            "Epoch 57/100\n",
            "240/240 [==============================] - 1s 3ms/step - loss: 205774.7031\n",
            "Epoch 58/100\n",
            "240/240 [==============================] - 1s 2ms/step - loss: 205774.6406\n",
            "Epoch 59/100\n",
            "240/240 [==============================] - 1s 2ms/step - loss: 205774.6875\n",
            "Epoch 60/100\n",
            "240/240 [==============================] - 0s 2ms/step - loss: 205774.6875\n",
            "Epoch 61/100\n",
            "240/240 [==============================] - 1s 3ms/step - loss: 205774.6094\n",
            "Epoch 62/100\n",
            "240/240 [==============================] - 0s 2ms/step - loss: 205774.6094\n",
            "Epoch 63/100\n",
            "240/240 [==============================] - 1s 2ms/step - loss: 205774.5781\n",
            "Epoch 64/100\n",
            "240/240 [==============================] - 1s 2ms/step - loss: 205774.6875\n",
            "Epoch 65/100\n",
            "240/240 [==============================] - 0s 2ms/step - loss: 205774.5625\n",
            "Epoch 66/100\n",
            "240/240 [==============================] - 0s 2ms/step - loss: 205774.5938\n",
            "Epoch 67/100\n",
            "240/240 [==============================] - 0s 2ms/step - loss: 205774.6094\n",
            "Epoch 68/100\n",
            "240/240 [==============================] - 0s 1ms/step - loss: 205774.7188\n",
            "Epoch 69/100\n",
            "240/240 [==============================] - 0s 2ms/step - loss: 205774.7500\n",
            "Epoch 70/100\n",
            "240/240 [==============================] - 0s 2ms/step - loss: 205774.6875\n",
            "Epoch 71/100\n",
            "240/240 [==============================] - 0s 2ms/step - loss: 205774.6875\n",
            "Epoch 72/100\n",
            "240/240 [==============================] - 0s 2ms/step - loss: 205774.6875\n",
            "Epoch 73/100\n",
            "240/240 [==============================] - 0s 1ms/step - loss: 205774.6562\n",
            "Epoch 74/100\n",
            "240/240 [==============================] - 0s 1ms/step - loss: 205774.6562\n",
            "Epoch 75/100\n",
            "240/240 [==============================] - 0s 1ms/step - loss: 205774.6094\n",
            "Epoch 76/100\n",
            "240/240 [==============================] - 0s 1ms/step - loss: 205774.6406\n",
            "Epoch 77/100\n",
            "240/240 [==============================] - 0s 1ms/step - loss: 205774.6562\n",
            "Epoch 78/100\n",
            "240/240 [==============================] - 0s 1ms/step - loss: 205774.6562\n",
            "Epoch 79/100\n",
            "240/240 [==============================] - 0s 1ms/step - loss: 205774.6562\n",
            "Epoch 80/100\n",
            "240/240 [==============================] - 0s 1ms/step - loss: 205774.6562\n",
            "Epoch 81/100\n",
            "240/240 [==============================] - 0s 1ms/step - loss: 205774.5469\n",
            "Epoch 82/100\n",
            "240/240 [==============================] - 0s 1ms/step - loss: 205774.6406\n",
            "Epoch 83/100\n",
            "240/240 [==============================] - 0s 1ms/step - loss: 205774.6406\n",
            "Epoch 84/100\n",
            "240/240 [==============================] - 0s 1ms/step - loss: 205774.6562\n",
            "Epoch 85/100\n",
            "240/240 [==============================] - 0s 2ms/step - loss: 205774.7188\n",
            "Epoch 86/100\n",
            "240/240 [==============================] - 0s 1ms/step - loss: 205774.5781\n",
            "Epoch 87/100\n",
            "240/240 [==============================] - 0s 1ms/step - loss: 205774.7031\n",
            "Epoch 88/100\n",
            "240/240 [==============================] - 0s 2ms/step - loss: 205774.6406\n",
            "Epoch 89/100\n",
            "240/240 [==============================] - 0s 1ms/step - loss: 205774.6406\n",
            "Epoch 90/100\n",
            "240/240 [==============================] - 0s 2ms/step - loss: 205774.6562\n",
            "Epoch 91/100\n",
            "240/240 [==============================] - 0s 1ms/step - loss: 205774.6875\n",
            "Epoch 92/100\n",
            "240/240 [==============================] - 0s 1ms/step - loss: 205774.7031\n",
            "Epoch 93/100\n",
            "240/240 [==============================] - 0s 1ms/step - loss: 205774.6875\n",
            "Epoch 94/100\n",
            "240/240 [==============================] - 0s 1ms/step - loss: 205774.5625\n",
            "Epoch 95/100\n",
            "240/240 [==============================] - 0s 1ms/step - loss: 205774.6875\n",
            "Epoch 96/100\n",
            "240/240 [==============================] - 0s 1ms/step - loss: 205774.6875\n",
            "Epoch 97/100\n",
            "240/240 [==============================] - 0s 1ms/step - loss: 205774.7344\n",
            "Epoch 98/100\n",
            "240/240 [==============================] - 0s 1ms/step - loss: 205774.6562\n",
            "Epoch 99/100\n",
            "240/240 [==============================] - 0s 1ms/step - loss: 205774.6562\n",
            "Epoch 100/100\n",
            "240/240 [==============================] - 0s 1ms/step - loss: 205774.6094\n"
          ]
        },
        {
          "data": {
            "text/plain": [
              "<keras.callbacks.History at 0x1a7819bee20>"
            ]
          },
          "execution_count": 12,
          "metadata": {},
          "output_type": "execute_result"
        }
      ],
      "source": [
        "ann.fit(x_train, y_train, batch_size=32, epochs=100) # Train the model with the training data"
      ]
    },
    {
      "cell_type": "markdown",
      "metadata": {
        "id": "0H0zKKNEBLD5"
      },
      "source": [
        "### Predicting the results of the Test set"
      ]
    },
    {
      "cell_type": "code",
      "execution_count": null,
      "metadata": {},
      "outputs": [],
      "source": [
        "y_pred = ann.predict(x_test) # Predict the output of the test data\n",
        "np.set_printoptions(precision=2) # Set the precision of the output to 2 decimal places (for the sake of readability)\n",
        "print(np.concatenate((y_pred.reshape(len(y_pred), 1), y_test.reshape(len(y_test), 1)), 1)) # Print the predicted output and the actual output of the test data"
      ]
    }
  ],
  "metadata": {
    "colab": {
      "collapsed_sections": [],
      "name": "Artificial Neural Network",
      "provenance": [],
      "toc_visible": true
    },
    "interpreter": {
      "hash": "a275130807d777a77138768878482faf6f91814929e3adcfb4bad1e252a46bb4"
    },
    "kernelspec": {
      "display_name": "Python 3.9.7 ('base')",
      "language": "python",
      "name": "python3"
    },
    "language_info": {
      "codemirror_mode": {
        "name": "ipython",
        "version": 3
      },
      "file_extension": ".py",
      "mimetype": "text/x-python",
      "name": "python",
      "nbconvert_exporter": "python",
      "pygments_lexer": "ipython3",
      "version": "3.9.7"
    }
  },
  "nbformat": 4,
  "nbformat_minor": 0
}
